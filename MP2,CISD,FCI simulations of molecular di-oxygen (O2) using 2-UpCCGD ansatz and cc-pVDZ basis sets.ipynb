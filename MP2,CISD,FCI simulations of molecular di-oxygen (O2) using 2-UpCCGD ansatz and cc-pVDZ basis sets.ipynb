{
 "cells": [
  {
   "cell_type": "code",
   "execution_count": 1,
   "id": "9b379bef",
   "metadata": {},
   "outputs": [],
   "source": [
    "#needs version >= 1.5 for full functionality\n",
    "import tequila as tq"
   ]
  },
  {
   "cell_type": "code",
   "execution_count": 2,
   "id": "a618679c",
   "metadata": {},
   "outputs": [
    {
     "name": "stdout",
     "output_type": "stream",
     "text": [
      "<class 'tequila.quantumchemistry.psi4_interface.QuantumChemistryPsi4'>\n",
      "Qubit Encoding\n",
      "JordanWigner\n",
      "\n",
      "Parameters\n",
      "basis_set       : cc-pVDZ         \n",
      "geometry        : O 0.0 0.0 0.0\n",
      "O 0.0 0.0 1.207 \n",
      "description     :                 \n",
      "multiplicity    : 1               \n",
      "charge          : 0               \n",
      "name            : o2              \n",
      "frozen_core     : True            \n",
      "n_qubits        : 52              \n",
      "reference state : [1, 1, 1, 1, 1, 1, 1, 1, 1, 1, 1, 1, 0, 0, 0, 0, 0, 0, 0, 0, 0, 0, 0, 0, 0, 0, 0, 0, 0, 0, 0, 0, 0, 0, 0, 0, 0, 0, 0, 0, 0, 0, 0, 0, 0, 0, 0, 0, 0, 0, 0, 0] \n",
      "\n",
      "Basis\n",
      "\n",
      "IntegralManager:\n",
      "ActiveSpace:\n",
      "Active Space Data:\n",
      "active_orbitals : [2, 3, 4, 5, 6, 7, 8, 9, 10, 11, 12, 13, 14, 15, 16, 17, 18, 19, 20, 21, 22, 23, 24, 25, 26, 27] \n",
      "reference_orbitals : [0, 1, 2, 3, 4, 5, 6, 7] \n",
      "active_reference_orbitals : [2, 3, 4, 5, 6, 7] \n",
      "frozen_docc     : [1, 0, 0, 0, 0, 1, 0, 0] \n",
      "frozen_uocc     : [0, 0, 0, 0, 0, 0, 0, 0] \n",
      "Orbitals:\n",
      "{irrep:AG, idx_irrep:0, idx_total:0, energy:-20.736598714439364}\n",
      "{irrep:B1U, idx_irrep:0, idx_total:1, energy:-20.735660935523317}\n",
      "{irrep:AG, idx_irrep:1, idx_total:2, idx:0, energy:-1.658601726220016}\n",
      "{irrep:B1U, idx_irrep:1, idx_total:3, idx:1, energy:-1.1014227600751991}\n",
      "{irrep:B2U, idx_irrep:0, idx_total:4, idx:2, energy:-0.765559883850206}\n",
      "{irrep:AG, idx_irrep:2, idx_total:5, idx:3, energy:-0.7336705963236086}\n",
      "{irrep:B3U, idx_irrep:0, idx_total:6, idx:4, energy:-0.64754317657364}\n",
      "{irrep:B3G, idx_irrep:0, idx_total:7, idx:5, energy:-0.46476902778235407}\n",
      "{irrep:B2G, idx_irrep:0, idx_total:8, idx:6, energy:0.03236259251776691}\n",
      "{irrep:B1U, idx_irrep:2, idx_total:9, idx:7, energy:0.46143660113493834}\n",
      "{irrep:B1U, idx_irrep:3, idx_total:10, idx:8, energy:1.0763281535983626}\n",
      "{irrep:B2U, idx_irrep:1, idx_total:11, idx:9, energy:1.0976519299047256}\n",
      "{irrep:B3U, idx_irrep:1, idx_total:12, idx:10, energy:1.1203686095416623}\n",
      "{irrep:AG, idx_irrep:3, idx_total:13, idx:11, energy:1.1516651247676188}\n",
      "{irrep:B3G, idx_irrep:1, idx_total:14, idx:12, energy:1.205771796680702}\n",
      "{irrep:B2G, idx_irrep:1, idx_total:15, idx:13, energy:1.2373988563129963}\n",
      "{irrep:AG, idx_irrep:4, idx_total:16, idx:14, energy:1.3262122499803735}\n",
      "{irrep:B1U, idx_irrep:4, idx_total:17, idx:15, energy:1.9715252613230745}\n",
      "{irrep:B3U, idx_irrep:2, idx_total:18, idx:16, energy:2.394754891545096}\n",
      "{irrep:B2U, idx_irrep:2, idx_total:19, idx:17, energy:2.4086076384769006}\n",
      "{irrep:B1G, idx_irrep:0, idx_total:20, idx:18, energy:2.680811156237484}\n",
      "{irrep:AG, idx_irrep:5, idx_total:21, idx:19, energy:2.680876054619251}\n",
      "{irrep:B1U, idx_irrep:5, idx_total:22, idx:20, energy:3.0065032349175054}\n",
      "{irrep:AU, idx_irrep:0, idx_total:23, idx:21, energy:3.0065122473133172}\n",
      "{irrep:AG, idx_irrep:6, idx_total:24, idx:22, energy:3.1770464275679404}\n",
      "{irrep:B2G, idx_irrep:2, idx_total:25, idx:23, energy:3.667101325718631}\n",
      "{irrep:B3G, idx_irrep:2, idx_total:26, idx:24, energy:3.6900637898088595}\n",
      "{irrep:B1U, idx_irrep:6, idx_total:27, idx:25, energy:4.189668202989537}\n",
      "\n",
      "more information with: self.print_basis_info()\n",
      "Psi4 Data\n",
      "Point Group (full) : d_inf_h         \n",
      "Point Group (used) : d2h             \n",
      "nirrep          : 8 \n",
      "irreps          : ['AG', 'B1G', 'B2G', 'B3G', 'AU', 'B1U', 'B2U', 'B3U'] \n",
      "mos per irrep   : [7, 1, 3, 3, 1, 7, 3, 3] \n",
      "\n"
     ]
    }
   ],
   "source": [
    "#Initialize molecule\n",
    "import tequila as tq\n",
    "geomstring=\"O 0.0 0.0 0.0\\nO 0.0 0.0 1.207\"\n",
    "molecule = tq.chemistry.Molecule(geometry = geomstring, basis_set=\"cc-pVDZ\")\n",
    "print(molecule)"
   ]
  },
  {
   "cell_type": "code",
   "execution_count": 3,
   "id": "703e85ce",
   "metadata": {},
   "outputs": [
    {
     "data": {
      "text/plain": [
       "OrbitalData(irrep='AG', idx_irrep=2, idx_total=5, idx=3, energy=-0.7336705963236086, occ=None, pair=None)"
      ]
     },
     "execution_count": 3,
     "metadata": {},
     "output_type": "execute_result"
    }
   ],
   "source": [
    "#Molecular Orbitals and Point Groups\n",
    "molecule.orbitals[3]"
   ]
  },
  {
   "cell_type": "code",
   "execution_count": 4,
   "id": "e3da45b1",
   "metadata": {},
   "outputs": [
    {
     "name": "stdout",
     "output_type": "stream",
     "text": [
      "Hamiltonian has 193 terms\n",
      "-143.2508-0.2124Z(0)-0.0689Y(0)Z(1)Y(2)-0.0689X(0)Z(1)X(2)-0.0192Y(0)Z(1)Z(2)Z(3)Y(4)-0.0192X(0)Z(1)Z(2)Z(3)X(4)-0.2124Z(1)-0.0689Y(1)Z(2)Y(3)-0.0689X(1)Z(2)X(3)-0.0192Y(1)Z(2)Z(3)Z(4)Y(5)-0.0192X(1)Z(2)Z(3)Z(4)X(5)-0.8774Z(2)-0.0215Y(2)Z(3)Y(4)-0.0215X(2)Z(3)X(4)-0.8774Z(3)-0.0215Y(3)Z(4)Y(5)-0.0215X(3)Z(4)X(5)-0.9897Z(4)-0.9897Z(5)-1.6921Z(6)-1.6921Z(7)+0.1565Z(0)Z(1)+0.0279Y(0)Y(2)+0.0279X(0)X(2)+0.0133Y(0)Z(2)Z(3)Y(4)+0.0133X(0)Z(2)Z(3)X(4)+0.0279Z(0)Y(1)Z(2)Y(3)+0.0279Z(0)X(1)Z(2)X(3)+0.0182Y(0)X(1)X(2)Y(3)-0.0182Y(0)Y(1)X(2)X(3)-0.0182X(0)X(1)Y(2)Y(3)+0.0182X(0)Y(1)Y(2)X(3)-0.0040Y(0)X(1)X(3)Y(4)-0.0040Y(0)Y(1)Y(3)Y(4)-0.0040X(0)X(1)X(3)X(4)-0.0040X(0)Y(1)Y(3)X(4)+0.0133Z(0)Y(1)Z(2)Z(3)Z(4)Y(5)+0.0133Z(0)X(1)Z(2)Z(3)Z(4)X(5)+0.0040Y(0)X(1)X(2)Z(3)Z(4)Y(5)-0.0040Y(0)Y(1)X(2)Z(3)Z(4)X(5)-0.0040X(0)X(1)Y(2)Z(3)Z(4)Y(5)+0.0040X(0)Y(1)Y(2)Z(3)Z(4)X(5)+0.0096Y(0)X(1)X(4)Y(5)-0.0096Y(0)Y(1)X(4)X(5)-0.0096X(0)X(1)Y(4)Y(5)+0.0096X(0)Y(1)Y(4)X(5)+0.0034Y(0)X(1)X(6)Y(7)-0.0034Y(0)Y(1)X(6)X(7)-0.0034X(0)X(1)Y(6)Y(7)+0.0034X(0)Y(1)Y(6)X(7)+0.1015Z(0)Z(2)+0.0032Z(0)Y(2)Z(3)Y(4)+0.0032Z(0)X(2)Z(3)X(4)+0.0085Y(0)Z(1)Z(3)Y(4)+0.0085X(0)Z(1)Z(3)X(4)+0.1197Z(0)Z(3)+0.0136Y(0)Z(1)Y(2)Z(3)+0.0136X(0)Z(1)X(2)Z(3)+0.0049Y(0)Z(1)Z(2)Y(4)+0.0049X(0)Z(1)Z(2)X(4)-0.0007Z(0)Y(3)Z(4)Y(5)-0.0007Z(0)X(3)Z(4)X(5)+0.0036Y(0)Z(1)Y(2)Y(3)Z(4)Y(5)+0.0036Y(0)Z(1)Y(2)X(3)Z(4)X(5)+0.0036X(0)Z(1)X(2)Y(3)Z(4)Y(5)+0.0036X(0)Z(1)X(2)X(3)Z(4)X(5)-0.0053Y(0)Z(1)Z(2)X(3)X(4)Y(5)+0.0053Y(0)Z(1)Z(2)Y(3)X(4)X(5)+0.0053X(0)Z(1)Z(2)X(3)Y(4)Y(5)-0.0053X(0)Z(1)Z(2)Y(3)Y(4)X(5)-0.0009Y(0)Z(1)Z(2)X(3)X(6)Y(7)+0.0009Y(0)Z(1)Z(2)Y(3)X(6)X(7)+0.0009X(0)Z(1)Z(2)X(3)Y(6)Y(7)-0.0009X(0)Z(1)Z(2)Y(3)Y(6)X(7)+0.1166Z(0)Z(4)+0.0157Y(0)Z(1)Y(2)Z(4)+0.0157X(0)Z(1)X(2)Z(4)+0.1262Z(0)Z(5)+0.0210Y(0)Z(1)Y(2)Z(5)+0.0210X(0)Z(1)X(2)Z(5)+0.0062Y(0)Z(1)Z(2)Z(3)Y(4)Z(5)+0.0062X(0)Z(1)Z(2)Z(3)X(4)Z(5)-0.0002Y(0)Z(1)Z(2)Z(3)Z(4)X(5)X(6)Y(7)+0.0002Y(0)Z(1)Z(2)Z(3)Z(4)Y(5)X(6)X(7)+0.0002X(0)Z(1)Z(2)Z(3)Z(4)X(5)Y(6)Y(7)-0.0002X(0)Z(1)Z(2)Z(3)Z(4)Y(5)Y(6)X(7)+0.1341Z(0)Z(6)+0.0228Y(0)Z(1)Y(2)Z(6)+0.0228X(0)Z(1)X(2)Z(6)+0.0063Y(0)Z(1)Z(2)Z(3)Y(4)Z(6)+0.0063X(0)Z(1)Z(2)Z(3)X(4)Z(6)+0.1375Z(0)Z(7)+0.0237Y(0)Z(1)Y(2)Z(7)+0.0237X(0)Z(1)X(2)Z(7)+0.0065Y(0)Z(1)Z(2)Z(3)Y(4)Z(7)+0.0065X(0)Z(1)Z(2)Z(3)X(4)Z(7)+0.1197Z(1)Z(2)+0.0136Y(1)Y(3)+0.0136X(1)X(3)+0.0049Y(1)Z(3)Z(4)Y(5)+0.0049X(1)Z(3)Z(4)X(5)-0.0007Z(1)Y(2)Z(3)Y(4)-0.0007Z(1)X(2)Z(3)X(4)+0.0036Y(1)X(2)X(3)Y(4)-0.0036Y(1)Y(2)X(3)X(4)-0.0036X(1)X(2)Y(3)Y(4)+0.0036X(1)Y(2)Y(3)X(4)+0.0053Y(1)X(2)X(4)Y(5)+0.0053Y(1)Y(2)Y(4)Y(5)+0.0053X(1)X(2)X(4)X(5)+0.0053X(1)Y(2)Y(4)X(5)+0.0009Y(1)X(2)X(6)Y(7)+0.0009Y(1)Y(2)Y(6)Y(7)+0.0009X(1)X(2)X(6)X(7)+0.0009X(1)Y(2)Y(6)X(7)+0.1015Z(1)Z(3)+0.0032Z(1)Y(3)Z(4)Y(5)+0.0032Z(1)X(3)Z(4)X(5)+0.0085Y(1)Z(2)Z(4)Y(5)+0.0085X(1)Z(2)Z(4)X(5)+0.1262Z(1)Z(4)+0.0210Y(1)Z(2)Y(3)Z(4)+0.0210X(1)Z(2)X(3)Z(4)+0.0062Y(1)Z(2)Z(3)Y(5)+0.0062X(1)Z(2)Z(3)X(5)+0.0002Y(1)Z(2)Z(3)X(4)X(6)Y(7)+0.0002Y(1)Z(2)Z(3)Y(4)Y(6)Y(7)+0.0002X(1)Z(2)Z(3)X(4)X(6)X(7)+0.0002X(1)Z(2)Z(3)Y(4)Y(6)X(7)+0.1166Z(1)Z(5)+0.0157Y(1)Z(2)Y(3)Z(5)+0.0157X(1)Z(2)X(3)Z(5)+0.1375Z(1)Z(6)+0.0237Y(1)Z(2)Y(3)Z(6)+0.0237X(1)Z(2)X(3)Z(6)+0.0065Y(1)Z(2)Z(3)Z(4)Y(5)Z(6)+0.0065X(1)Z(2)Z(3)Z(4)X(5)Z(6)+0.1341Z(1)Z(7)+0.0228Y(1)Z(2)Y(3)Z(7)+0.0228X(1)Z(2)X(3)Z(7)+0.0063Y(1)Z(2)Z(3)Z(4)Y(5)Z(7)+0.0063X(1)Z(2)Z(3)Z(4)X(5)Z(7)+0.1041Z(2)Z(3)+0.0005Y(2)Y(4)+0.0005X(2)X(4)+0.0005Z(2)Y(3)Z(4)Y(5)+0.0005Z(2)X(3)Z(4)X(5)+0.0103Y(2)X(3)X(4)Y(5)-0.0103Y(2)Y(3)X(4)X(5)-0.0103X(2)X(3)Y(4)Y(5)+0.0103X(2)Y(3)Y(4)X(5)+0.0014Y(2)X(3)X(6)Y(7)-0.0014Y(2)Y(3)X(6)X(7)-0.0014X(2)X(3)Y(6)Y(7)+0.0014X(2)Y(3)Y(6)X(7)+0.0945Z(2)Z(4)+0.1047Z(2)Z(5)+0.0080Y(2)Z(3)Y(4)Z(5)+0.0080X(2)Z(3)X(4)Z(5)-0.0007Y(2)Z(3)Z(4)X(5)X(6)Y(7)+0.0007Y(2)Z(3)Z(4)Y(5)X(6)X(7)+0.0007X(2)Z(3)Z(4)X(5)Y(6)Y(7)-0.0007X(2)Z(3)Z(4)Y(5)Y(6)X(7)+0.1091Z(2)Z(6)+0.0075Y(2)Z(3)Y(4)Z(6)+0.0075X(2)Z(3)X(4)Z(6)+0.1105Z(2)Z(7)+0.0082Y(2)Z(3)Y(4)Z(7)+0.0082X(2)Z(3)X(4)Z(7)+0.1047Z(3)Z(4)+0.0080Y(3)Y(5)+0.0080X(3)X(5)+0.0007Y(3)X(4)X(6)Y(7)+0.0007Y(3)Y(4)Y(6)Y(7)+0.0007X(3)X(4)X(6)X(7)+0.0007X(3)Y(4)Y(6)X(7)+0.0945Z(3)Z(5)+0.1105Z(3)Z(6)+0.0082Y(3)Z(4)Y(5)Z(6)+0.0082X(3)Z(4)X(5)Z(6)+0.1091Z(3)Z(7)+0.0075Y(3)Z(4)Y(5)Z(7)+0.0075X(3)Z(4)X(5)Z(7)+0.1190Z(4)Z(5)+0.0026Y(4)X(5)X(6)Y(7)-0.0026Y(4)Y(5)X(6)X(7)-0.0026X(4)X(5)Y(6)Y(7)+0.0026X(4)Y(5)Y(6)X(7)+0.1243Z(4)Z(6)+0.1269Z(4)Z(7)+0.1269Z(5)Z(6)+0.1243Z(5)Z(7)+0.1528Z(6)Z(7)\n",
      "[-149.54539138 -148.81852745 -148.81852745 -148.39560035 -148.39560035\n",
      " -148.22730941 -148.22730941 -148.13714065 -148.13714065 -148.13714065\n",
      " -148.00592803 -147.98982133 -147.98982133 -147.98982133 -147.90385955\n",
      " -147.44970416 -147.17793502 -147.17793502 -147.09120844 -147.09120844\n",
      " -146.98221783 -146.98221783 -146.93802163 -146.93802163 -146.93802163\n",
      " -146.93802163 -146.87797831 -146.87797831 -146.83345856 -146.82456558\n",
      " -146.82456558 -146.74384148 -146.74384148 -146.70350814 -146.70350814\n",
      " -146.70350814 -146.6801506  -146.6801506  -146.6801506  -146.65283175\n",
      " -146.63876059 -146.63876059 -146.6217118  -146.50402997 -146.4490264\n",
      " -146.4490264  -146.4490264  -146.43649462 -146.37087046 -146.24866142\n",
      " -145.85629991 -145.85629991 -145.57558958 -145.57558958 -145.57558958\n",
      " -145.57558958 -145.54807228 -145.54807228 -145.40615156 -145.40615156\n",
      " -145.35732574 -145.35732574 -145.35732574 -145.35732574 -145.3497723\n",
      " -145.3497723  -145.3446882  -145.3446882  -145.3446882  -145.32078715\n",
      " -145.32078715 -145.29856335 -145.29856335 -145.29856335 -145.28637161\n",
      " -145.28197127 -145.27638263 -145.27638263 -145.19562856 -145.19562856\n",
      " -145.18046332 -145.18046332 -145.18046332 -145.15573375 -145.15573375\n",
      " -145.15573375 -145.14579504 -145.08079654 -145.08079654 -145.08079654\n",
      " -145.05860001 -145.00613134 -145.00131584 -145.00131584 -145.00131584\n",
      " -144.97925192 -144.70776659 -144.70776659 -144.49662152 -144.49662152\n",
      " -144.03290055 -144.03290055 -143.96096291 -143.96096291 -143.96096291\n",
      " -143.93639075 -143.92849528 -143.92849528 -143.92234436 -143.92234436\n",
      " -143.92234436 -143.92234436 -143.89832182 -143.89832182 -143.87435941\n",
      " -143.87435941 -143.87435941 -143.87435941 -143.87435941 -143.85504994\n",
      " -143.85504994 -143.83497856 -143.83497856 -143.83497856 -143.76693709\n",
      " -143.76693709 -143.76693709 -143.74986331 -143.70431118 -143.65710973\n",
      " -143.65710973 -143.65710973 -143.65150203 -143.63431263 -143.62849725\n",
      " -143.62849725 -143.62612721 -143.49591822 -143.49591822 -143.49591822\n",
      " -143.47035828 -143.2822187  -143.2822187  -143.18862129 -143.18862129\n",
      " -143.12123201 -143.12123201 -143.12123201 -143.12123201 -143.094788\n",
      " -143.094788   -143.0347637  -143.0347637  -142.79186454 -142.79186454\n",
      " -142.51507614 -142.51507614 -142.38845056 -142.38845056 -142.38845056\n",
      " -142.37020847 -142.37020847 -142.37020847 -142.34770627 -142.27941943\n",
      " -142.27941943 -142.2106085  -142.13844907 -142.13844907 -142.13844907\n",
      " -142.12731871 -142.10237152 -142.0987166  -142.0987166  -142.0987166\n",
      " -142.04093241 -141.81615193 -141.81615193 -141.81615193 -141.81615193\n",
      " -141.78149883 -141.78149883 -141.75117805 -141.75117805 -141.60499755\n",
      " -141.60499755 -141.60027724 -141.60027724 -141.60027724 -141.60027724\n",
      " -141.57275637 -141.57275637 -141.40529871 -141.40529871 -141.33794845\n",
      " -141.33794845 -140.93737783 -140.75406223 -140.75406223 -140.75406223\n",
      " -140.7004374  -140.66076106 -140.66076106 -140.66076106 -140.63842308\n",
      " -140.41163128 -140.41163128 -140.41163128 -140.39709222 -140.3935482\n",
      " -140.31014745 -140.31014745 -140.17697906 -140.17697906 -140.16974078\n",
      " -140.16974078 -140.16974078 -140.16974078 -140.08194536 -140.08194536\n",
      " -139.95494721 -139.95494721 -139.74172414 -139.74172414 -139.12961084\n",
      " -139.12961084 -139.12961084 -139.12683856 -139.10716639 -138.92862443\n",
      " -138.92862443 -138.92862443 -138.85166367 -138.73322829 -138.73322829\n",
      " -138.56514741 -138.44613784 -138.44613784 -137.63665201 -137.63665201\n",
      " -137.63665201 -137.59160785 -137.5387014  -137.5387014  -137.38827086\n",
      " -137.38827086 -137.38827086 -137.20201601 -135.99639803 -135.99289444\n",
      " -135.99289444 -135.72610954 -135.72610954 -134.42862735 -134.42862735\n",
      " -132.3638248 ]\n",
      "lowest energy =  -149.54539138019\n"
     ]
    }
   ],
   "source": [
    "#Since, the O2 Hamiltonian (52-qubit Hamiltonian) is very large, \n",
    "#so let's set the active space and then initialize the Qubit Hamiltonian\n",
    "import tequila as tq\n",
    "import numpy\n",
    "active_orbitals = {\"AG\":[2,3,4], \"B1G\":[0]}\n",
    "molecule = tq.chemistry.Molecule(geometry = geomstring, basis_set=\"cc-pVDZ\", active_orbitals=active_orbitals)\n",
    "H = molecule.make_hamiltonian()\n",
    "eigenValues = numpy.linalg.eigvalsh(H.to_matrix())\n",
    "print(\"Hamiltonian has {} terms\".format(len(H)))\n",
    "print(H)\n",
    "print(eigenValues)\n",
    "print(\"lowest energy = \", eigenValues[0])"
   ]
  },
  {
   "cell_type": "code",
   "execution_count": 1,
   "id": "290aff99",
   "metadata": {},
   "outputs": [
    {
     "name": "stdout",
     "output_type": "stream",
     "text": [
      "There are known issues with some psi4 methods and frozen virtual orbitals. Proceed with fingers crossed for mp2.\n",
      "Optimizer: <class 'tequila.optimizers.optimizer_scipy.OptimizerSciPy'> \n",
      "backend         : qulacs\n",
      "device          : None\n",
      "samples         : None\n",
      "save_history    : True\n",
      "noise           : None\n",
      "\n",
      "Method          : BFGS\n",
      "Objective       : 1 expectationvalues\n",
      "gradient        : 24 expectationvalues\n",
      "\n",
      "active variables : 12\n",
      "\n",
      "E=-149.54302095  angles= {(((0, 1),), 'D', (None, 0)): 0.0, (((0, 2),), 'D', (None, 0)): 0.0, (((0, 3),), 'D', (None, 0)): 0.0, (((1, 2),), 'D', (None, 0)): 0.0, (((1, 3),), 'D', (None, 0)): 0.0, (((2, 3),), 'D', (None, 0)): 0.0, (((0, 1),), 'D', (None, 1)): 0.0, (((0, 2),), 'D', (None, 1)): 0.0, (((0, 3),), 'D', (None, 1)): 0.0, (((1, 2),), 'D', (None, 1)): 0.0, (((1, 3),), 'D', (None, 1)): 0.0, (((2, 3),), 'D', (None, 1)): 0.0}  samples= None\n",
      "E=-149.53459409  angles= {(((0, 1),), 'D', (None, 0)): -0.07294464111328125, (((0, 2),), 'D', (None, 0)): -0.0385589599609375, (((0, 3),), 'D', (None, 0)): -0.01355743408203125, (((1, 2),), 'D', (None, 0)): 0.0, (((1, 3),), 'D', (None, 0)): 0.0, (((2, 3),), 'D', (None, 0)): 0.0, (((0, 1),), 'D', (None, 1)): -0.07294464111328125, (((0, 2),), 'D', (None, 1)): -0.0385589599609375, (((0, 3),), 'D', (None, 1)): -0.01355743408203125, (((1, 2),), 'D', (None, 1)): 0.0, (((1, 3),), 'D', (None, 1)): 0.0, (((2, 3),), 'D', (None, 1)): 0.0}  samples= None\n",
      "E=-149.54520158  angles= {(((0, 1),), 'D', (None, 0)): -0.022732250159696595, (((0, 2),), 'D', (None, 0)): -0.012016399153551575, (((0, 3),), 'D', (None, 0)): -0.0042249982777722885, (((1, 2),), 'D', (None, 0)): 0.0, (((1, 3),), 'D', (None, 0)): 0.0, (((2, 3),), 'D', (None, 0)): 0.0, (((0, 1),), 'D', (None, 1)): -0.022732250159696595, (((0, 2),), 'D', (None, 1)): -0.012016399153551575, (((0, 3),), 'D', (None, 1)): -0.0042249982777722885, (((1, 2),), 'D', (None, 1)): 0.0, (((1, 3),), 'D', (None, 1)): 0.0, (((2, 3),), 'D', (None, 1)): 0.0}  samples= None\n",
      "E=-149.54467153  angles= {(((0, 1),), 'D', (None, 0)): -0.027447197707080834, (((0, 2),), 'D', (None, 0)): -0.01097031792306428, (((0, 3),), 'D', (None, 0)): 0.0071051146412294975, (((1, 2),), 'D', (None, 0)): -3.817193117502797e-05, (((1, 3),), 'D', (None, 0)): -0.0001374189522301007, (((2, 3),), 'D', (None, 0)): -6.870947611505036e-05, (((0, 1),), 'D', (None, 1)): -0.027447197707080834, (((0, 2),), 'D', (None, 1)): -0.010962683536829275, (((0, 3),), 'D', (None, 1)): 0.007097480254994489, (((1, 2),), 'D', (None, 1)): -7.634386235005594e-05, (((1, 3),), 'D', (None, 1)): -0.0002748379044602014, (((2, 3),), 'D', (None, 1)): -0.0001297845659950951}  samples= None\n",
      "E=-149.54522823  angles= {(((0, 1),), 'D', (None, 0)): -0.02357860966897325, (((0, 2),), 'D', (None, 0)): -0.011828621710006116, (((0, 3),), 'D', (None, 0)): -0.00219117951016046, (((1, 2),), 'D', (None, 0)): -6.852075577248418e-06, (((1, 3),), 'D', (None, 0)): -2.4667472078094304e-05, (((2, 3),), 'D', (None, 0)): -1.2333736039047154e-05, (((0, 1),), 'D', (None, 1)): -0.02357860966897325, (((0, 2),), 'D', (None, 1)): -0.011827251294890666, (((0, 3),), 'D', (None, 1)): -0.0021925499252759104, (((1, 2),), 'D', (None, 1)): -1.3704151154496835e-05, (((1, 3),), 'D', (None, 1)): -4.933494415618861e-05, (((2, 3),), 'D', (None, 1)): -2.3297056962644617e-05}  samples= None\n",
      "E=-149.54522546  angles= {(((0, 1),), 'D', (None, 0)): -0.024261969830904485, (((0, 2),), 'D', (None, 0)): -0.010547558264365155, (((0, 3),), 'D', (None, 0)): -0.002400661507951028, (((1, 2),), 'D', (None, 0)): -2.2674927976721538e-05, (((1, 3),), 'D', (None, 0)): -1.906276453512405e-05, (((2, 3),), 'D', (None, 0)): -5.7163227443258385e-06, (((0, 1),), 'D', (None, 1)): -0.024261969830904485, (((0, 2),), 'D', (None, 1)): -0.0105460753263884, (((0, 3),), 'D', (None, 1)): -0.002402144445927784, (((1, 2),), 'D', (None, 1)): -5.2979974999915455e-05, (((1, 3),), 'D', (None, 1)): -4.5755648116720473e-05, (((2, 3),), 'D', (None, 1)): -1.757982655836869e-05}  samples= None\n",
      "E=-149.54522887  angles= {(((0, 1),), 'D', (None, 0)): -0.023785532114642474, (((0, 2),), 'D', (None, 0)): -0.011440713845315361, (((0, 3),), 'D', (None, 0)): -0.0022546109621549675, (((1, 2),), 'D', (None, 0)): -1.1643258175176379e-05, (((1, 3),), 'D', (None, 0)): -2.2970358525594198e-05, (((2, 3),), 'D', (None, 0)): -1.032997371980681e-05, (((0, 1),), 'D', (None, 1)): -0.023785532114642474, (((0, 2),), 'D', (None, 1)): -0.011439309358114718, (((0, 3),), 'D', (None, 1)): -0.002256015449355611, (((1, 2),), 'D', (None, 1)): -2.5596927436333342e-05, (((1, 3),), 'D', (None, 1)): -4.8251128137168976e-05, (((2, 3),), 'D', (None, 1)): -2.156587132495115e-05}  samples= None\n",
      "Optimization terminated successfully.\n",
      "         Current function value: -149.545229\n",
      "         Iterations: 3\n",
      "         Function evaluations: 7\n",
      "         Gradient evaluations: 7\n",
      "VQE : -149.54523f\n",
      "MP2 : -149.54469f\n",
      "CISD: -149.54539f\n",
      "FCI : -149.54539f\n"
     ]
    }
   ],
   "source": [
    "import tequila as tq\n",
    "threshold = 1.e-6\n",
    "geomstring=\"O 0.0 0.0 0.0\\nO 0.0 0.0 1.207\"\n",
    "active = {\"AG\":[2,3,4], \"B1G\":[0]}\n",
    "molecule = tq.quantumchemistry.Molecule(geometry=geomstring, basis_set='cc-pVDZ', active_orbitals=active)\n",
    "H = molecule.make_hamiltonian()\n",
    "\n",
    "U = molecule.make_upccgsd_ansatz(name=\"2-UpCCGD\")\n",
    "\n",
    "# define the expectationvalue\n",
    "E = tq.ExpectationValue(H=H, U=U)\n",
    "\n",
    "# compute reference energies\n",
    "mp2 = molecule.compute_energy(\"mp2\")\n",
    "cisd = molecule.compute_energy(\"detci\", options={\"detci__ex_level\": 2})\n",
    "fci = molecule.compute_energy(\"fci\")\n",
    "\n",
    "# optimize\n",
    "result = tq.minimize(objective=E, method=\"BFGS\", initial_values=0.0)\n",
    "\n",
    "print(\"VQE : {:+2.8}f\".format(result.energy))\n",
    "print(\"MP2 : {:+2.8}f\".format(mp2))\n",
    "print(\"CISD: {:+2.8}f\".format(cisd))\n",
    "print(\"FCI : {:+2.8}f\".format(fci))"
   ]
  },
  {
   "cell_type": "code",
   "execution_count": 2,
   "id": "36654315",
   "metadata": {},
   "outputs": [
    {
     "data": {
      "image/png": "[encoded data removed]",
      "text/plain": [
       "<Figure size 432x288 with 1 Axes>"
      ]
     },
     "metadata": {
      "needs_background": "light"
     },
     "output_type": "display_data"
    }
   ],
   "source": [
    "result.history.plot(\"energies\", baselines={\"fci\":fci, \"cisd\": cisd, \"mp2\":mp2}, filename=\"O2_result_bfgs\")"
   ]
  },
  {
   "cell_type": "code",
   "execution_count": null,
   "id": "7aee370f",
   "metadata": {},
   "outputs": [],
   "source": []
  }
 ],
 "metadata": {
  "kernelspec": {
   "display_name": "base",
   "language": "python",
   "name": "base"
  },
  "language_info": {
   "codemirror_mode": {
    "name": "ipython",
    "version": 3
   },
   "file_extension": ".py",
   "mimetype": "text/x-python",
   "name": "python",
   "nbconvert_exporter": "python",
   "pygments_lexer": "ipython3",
   "version": "3.9.12"
  }
 },
 "nbformat": 4,
 "nbformat_minor": 5
}
